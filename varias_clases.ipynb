{
 "cells": [
  {
   "cell_type": "markdown",
   "metadata": {},
   "source": [
    "# Regresión logística para varias clases"
   ]
  },
  {
   "cell_type": "code",
   "execution_count": 1,
   "metadata": {
    "collapsed": false
   },
   "outputs": [],
   "source": [
    "%matplotlib inline\n",
    "import numpy as np\n",
    "import matplotlib.pyplot as plt\n",
    "from scipy.optimize import minimize\n",
    "from IPython.display import Image  # Esto es para desplegar imágenes en la libreta"
   ]
  },
  {
   "cell_type": "markdown",
   "metadata": {},
   "source": [
    "## 1. La base de datos a utilizar"
   ]
  },
  {
   "cell_type": "markdown",
   "metadata": {},
   "source": [
    "La regresión *softmax* (o tambien conocida como *regresión logística multinomial*) es el último de los algoritmos basado en modelos lineales generalizados que cubriremos en el curso de reconocimiento de patrones. Para ejemplificar su uso, vamos a utilizar una base de datos bastante comun, MNIST. \n",
    "\n",
    "MNIST es una base de datos de digitos escritos a mano, en formato de $20 \\times 20$ pixeles. La base completa puede obtenerse en la página de Yan LeCun (http://yann.lecun.com/exdb/mnist/).\n",
    "\n",
    "Nosotros en realidad vamos a utilizar una base de datos reducida de la original y con imágenes de calidad más reducida ($16 \\times 16$ pixeles por imagen). Numpy provée un método para guardar objetos tipo numpy en un solo archivo, utilizando el método de compresión *gunzip*. Los datos ya se encuentran preprocesados y empaquetados en un archivo llamado `digitos.npz`. "
   ]
  },
  {
   "cell_type": "code",
   "execution_count": 2,
   "metadata": {
    "collapsed": false
   },
   "outputs": [
    {
     "name": "stdout",
     "output_type": "stream",
     "text": [
      "['X_valida', 'X_entrena', 'T_valida', 'T_entrena']\n"
     ]
    }
   ],
   "source": [
    "data = np.load(\"digitos.npz\")\n",
    "\n",
    "print data.keys()"
   ]
  },
  {
   "cell_type": "markdown",
   "metadata": {},
   "source": [
    "En este caso, `data` es un objeto contenedor de numpy cuyas llaves son `X_valida`, `X_entrena`, `T_valida`, `T_entrena`. Cada una de estas son a su vez objetos tipo ndarray de numpy, los cuales contienen valores de entrada y salida, tanto para entrenamiento como para validación. No se preocupen, esto de entrenamiento y validación lo vamos a ver más adelante en la clase.\n",
    "\n",
    "Cada renglon de x es una imagen *desenrrollada*, esto es los 256 datos de una imágen de $16 \\times 16$ pixeles. Por otra parte, cada renglon de y es un vector de 10 posiciones, donde todos los valores son ceros, salvo uno, que es el que define la clase de la imagen.\n",
    "\n",
    "Para darse una mejor idea, ejecuta el siguiente script varias veces."
   ]
  },
  {
   "cell_type": "code",
   "execution_count": 5,
   "metadata": {
    "collapsed": false
   },
   "outputs": [
    {
     "name": "stdout",
     "output_type": "stream",
     "text": [
      "-- x es de dimensiones  (9000, 256)\n",
      "-- y es de dimensiones  (9000, 10)\n",
      "\n",
      "y si escogemos la imagen  3709 veremos\n"
     ]
    },
    {
     "data": {
      "image/png": "[encoded data removed]",
      "text/plain": [
       "<matplotlib.figure.Figure at 0x7fedbd5c90d0>"
      ]
     },
     "metadata": {},
     "output_type": "display_data"
    },
    {
     "name": "stdout",
     "output_type": "stream",
     "text": [
      "la cual es un 9\n",
      "\n",
      "\n",
      "Y si miramos lo que contiene, veremos que\n",
      "x[a,:] = \n",
      "[ 0.          0.          0.          0.          0.07058824  0.38039219\n",
      "  0.56862748  0.63921571  0.7843138   0.69803923  0.5411765   0.31764707\n",
      "  0.06666667  0.          0.          0.          0.          0.          0.0509804\n",
      "  0.4784314   0.92941183  0.91764712  0.72941178  0.59215689  0.43529415\n",
      "  0.38431376  0.67843139  0.92941183  0.91372555  0.38823533  0.03529412\n",
      "  0.          0.          0.09411766  0.73725492  1.          0.54509807\n",
      "  0.09411766  0.          0.          0.          0.          0.\n",
      "  0.07843138  0.43137258  0.97647065  0.70980394  0.01176471  0.01176471\n",
      "  0.73333335  0.98823535  0.47058827  0.00392157  0.          0.          0.\n",
      "  0.          0.          0.          0.          0.          0.29411766\n",
      "  0.96862751  0.44705886  0.25882354  1.          0.65098041  0.          0.\n",
      "  0.          0.          0.          0.          0.          0.          0.\n",
      "  0.18431373  0.80392164  1.          0.38431376  0.48235297  1.          0.2392157\n",
      "  0.          0.          0.          0.          0.          0.          0.\n",
      "  0.07450981  0.34117648  0.97254908  1.          1.          0.09019608\n",
      "  0.51372552  1.          0.43137258  0.          0.          0.          0.\n",
      "  0.          0.03137255  0.34901962  0.90980399  0.60000002  0.37647063\n",
      "  1.          0.72549021  0.          0.0627451   0.80392164  0.95686281\n",
      "  0.37647063  0.03921569  0.          0.06666667  0.50196081  0.83921576\n",
      "  0.67058825  0.23137257  0.03529412  0.76862752  1.          0.36078432\n",
      "  0.          0.          0.10196079  0.54901963  0.92549026  0.95686281\n",
      "  0.83921576  0.96078438  0.65098041  0.20392159  0.          0.\n",
      "  0.34901962  1.          0.90980399  0.04705883  0.          0.          0.\n",
      "  0.          0.03529412  0.18823531  0.16862746  0.05490196  0.          0.\n",
      "  0.          0.          0.71372551  1.          0.52549022  0.          0.\n",
      "  0.          0.          0.          0.          0.          0.          0.\n",
      "  0.          0.          0.          0.16862746  0.96862751  1.\n",
      "  0.16470589  0.          0.          0.          0.          0.          0.\n",
      "  0.          0.          0.          0.          0.          0.\n",
      "  0.48235297  1.          0.6901961   0.00392157  0.          0.          0.\n",
      "  0.          0.          0.          0.          0.          0.          0.\n",
      "  0.          0.01960784  0.82352948  1.          0.32549021  0.          0.\n",
      "  0.          0.          0.          0.          0.          0.          0.\n",
      "  0.          0.          0.          0.08627451  1.          0.93725497\n",
      "  0.09411766  0.          0.          0.          0.          0.          0.\n",
      "  0.          0.          0.          0.          0.          0.\n",
      "  0.02352941  0.82745105  0.99215692  0.57254905  0.04705883  0.          0.\n",
      "  0.          0.          0.          0.          0.          0.          0.\n",
      "  0.          0.          0.          0.38431376  0.73725492  0.37254903\n",
      "  0.          0.          0.        ]\n",
      "y[a,:] = \n",
      "[ 0.  0.  0.  0.  0.  0.  0.  0.  0.  1.]\n"
     ]
    }
   ],
   "source": [
    "x = data['X_entrena']\n",
    "y = data['T_entrena']\n",
    "\n",
    "a = np.random.randint(0, y.shape[0])\n",
    "\n",
    "print \"-- x es de dimensiones \", x.shape\n",
    "print \"-- y es de dimensiones \", y.shape\n",
    "\n",
    "print \"\\ny si escogemos la imagen \", a, \"veremos\"\n",
    "\n",
    "plt.imshow(x[a,:].reshape(16,16), cmap=plt.gray())\n",
    "plt.axis('off')\n",
    "plt.show()\n",
    "\n",
    "print \"la cual es un\", list(y[a,:]).index(1)\n",
    "\n",
    "print\"\\n\\nY si miramos lo que contiene, veremos que\"\n",
    "print\"x[a,:] = \"\n",
    "print x[a,:]\n",
    "print \"y[a,:] = \"\n",
    "print y[a,:]"
   ]
  },
  {
   "cell_type": "markdown",
   "metadata": {},
   "source": [
    "O bien, ejecuta este script para ver un grupo grande de imágenes (puedes hacer más grande la imagen para verla mejor)."
   ]
  },
  {
   "cell_type": "code",
   "execution_count": 6,
   "metadata": {
    "collapsed": false
   },
   "outputs": [
    {
     "data": {
      "text/plain": [
       "<matplotlib.text.Text at 0x7fedbc33fcd0>"
      ]
     },
     "execution_count": 6,
     "metadata": {},
     "output_type": "execute_result"
    },
    {
     "data": {
      "image/png": "[encoded data removed]",
      "text/plain": [
       "<matplotlib.figure.Figure at 0x7fedc2b4fdd0>"
      ]
     },
     "metadata": {},
     "output_type": "display_data"
    }
   ],
   "source": [
    "indices = np.arange(y.shape[0])\n",
    "np.random.shuffle(indices)\n",
    "ind = indices[0:100].reshape(10,10)\n",
    "\n",
    "imagen = np.ones((10 * 16 + 4*11, 10 * 16 + 4*11))\n",
    "for i in range(10):\n",
    "    for j in range(10):\n",
    "        imagen[4 + i * 20: 20 + i * 20, 4 + j * 20: 20 + j * 20] = x[ind[i, j], :].reshape(16,16)\n",
    "        \n",
    "plt.imshow(imagen, cmap=plt.gray())\n",
    "plt.axis('off')\n",
    "plt.title(u\"Ejemplos aleatorios de imágenes a clasificar\")"
   ]
  },
  {
   "cell_type": "markdown",
   "metadata": {},
   "source": [
    "Por último, vamos a hacer una función que agregue la columna de unos para la x extendida, y simplificar más adelante su uso."
   ]
  },
  {
   "cell_type": "code",
   "execution_count": 7,
   "metadata": {
    "collapsed": false
   },
   "outputs": [],
   "source": [
    "def extendida(x):\n",
    "    \"\"\"\n",
    "    Agrega una columna de unos a x\n",
    "    \n",
    "    \"\"\"\n",
    "    return np.c_[np.ones((x.shape[0], 1)), x]"
   ]
  },
  {
   "cell_type": "markdown",
   "metadata": {},
   "source": [
    "## 2. Regresión logística para varias clases"
   ]
  },
  {
   "cell_type": "markdown",
   "metadata": {},
   "source": [
    "En la regresión logistica para varias clases, en lugar de estimar solamente un vector de parámetros, el valor de salida lo descomponemos en $K$ vectores de salida con valores de 1 (si pertenece a esa clase) o cero (si no pertenece). A esto se le conoce como *dummy variable*. En el ejemplo que tenemos, las clases ya se encuentran de esa forma (por eso la salida es un vector de dimensión 10 donde solo uno es 1 y todos los demás valores son 0).  Lo que tenemos que hacer es estimar una matriz de parámetros $\\theta$ tal que:\n",
    "\n",
    "$$\n",
    "\\theta = (\\theta^{(1)}, \\ldots, \\theta^{(K)}) \n",
    "$$\n",
    "\n",
    "donde $\\theta^{(k)} = (\\theta_0^{(k)}, \\ldots, \\theta_n^{(k)})^T$ es el vector columna que parametriza la clase $k$. De esta manera, $\\theta$ es ahora una matriz de dimensión $n+1 \\times K$. El aporte lineal a cada clase de un objeto $x^(i)$ está dado por\n",
    "\n",
    "$$\n",
    "z^{i} = \\theta^T x^{(i)},\n",
    "$$\n",
    "\n",
    "el cual es de dimensión $K \\times 1$ (un valor por cada clase). La probabilidad de pertenecer a la clase $k$ respecto al resto de las clases está dada por:\n",
    "\n",
    "$$\n",
    "\\hat{y}_k^{(i)} = logistica(z^{(i)}) = \\frac{1}{1 + \\exp(-z^{(i)})}.\n",
    "$$\n",
    "\n",
    "Como se puede ver, $\\hat{y}^{(i)}$ es independiente para cada posible valor de $k$, por lo que la suma no está condicionada a ser 1."
   ]
  },
  {
   "cell_type": "markdown",
   "metadata": {},
   "source": [
    "#### Ejercicio 1. Con esta información, realiza la función *logistica*, de manera que si recibe un ndarray de dimensiones $ T \\times K$ con $T$ vectores, regrese la matriz de mismas dimensiones con el cálculo *logistica* para cada matriz (20 puntos)."
   ]
  },
  {
   "cell_type": "code",
   "execution_count": 8,
   "metadata": {
    "collapsed": false
   },
   "outputs": [],
   "source": [
    "def logistica(z):\n",
    "    \"\"\"\n",
    "    Calculo de la regresión softmax\n",
    "    \n",
    "    @param z: ndarray de dimensión (T, K) donde z[i, :] es el vector de aportes lineales de el objeto i\n",
    "    \n",
    "    @return: un ndarray de dimensión (T, K) donde cada columna es el calculo softmax de su respectivo vector de entrada.\n",
    "    \n",
    "    \"\"\"\n",
    "    #--------------------------------------------------------------------------------\n",
    "    # AGREGA AQUI TU CÓDIGO\n",
    "    #--------------------------------------------------------------------------------\n",
    "    return 1.0 / (1.0 + np.exp(-z))\n",
    "    #--------------------------------------------------------------------------------"
   ]
  },
  {
   "cell_type": "code",
   "execution_count": 9,
   "metadata": {
    "collapsed": false
   },
   "outputs": [
    {
     "name": "stdout",
     "output_type": "stream",
     "text": [
      "[[1 2 3]\n",
      " [4 5 6]\n",
      " [7 8 9]]\n",
      "[[ 0.73105858  0.88079708  0.95257413]\n",
      " [ 0.98201379  0.99330715  0.99752738]\n",
      " [ 0.99908895  0.99966465  0.99987661]]\n"
     ]
    }
   ],
   "source": [
    "\"Prueba de la funcion logistica\"\n",
    "\n",
    "z = np.array([[1, 2, 3], [4, 5, 6], [7, 8, 9]])\n",
    "\n",
    "print z\n",
    "\n",
    "print logistica(z)"
   ]
  },
  {
   "cell_type": "markdown",
   "metadata": {},
   "source": [
    "Y ahora es necesario implementar la función de costo, la cual es la suma de los costos por cada salida de las k regresiones logísticas, la cual puede resumirse como:\n",
    "\n",
    "$$\n",
    "J(\\theta) = -\\frac{1}{T}\\sum_{i=1}^T \\sum_{k=1}^K y_k^{(i)} \\log(\\hat{y}_k^{(i)}),\n",
    "$$\n",
    "\n",
    "donde $y_k^{(i)}$ es un valor de 0 o 1 dependiendo si el objeto $i$ pertenece a la clase $k$ o no, mientras que $\\hat{y}_k^{(i)}$ es la probabilidad que el objeto $i$ pertenezca a la clase $k$ conociendo $x^{(i)}$ y parametrizado por $\\theta$. Esto se vio en clase y no se realizará el repaso aqui en la libreta."
   ]
  },
  {
   "cell_type": "markdown",
   "metadata": {},
   "source": [
    "#### Ejercicio 2. Implementa la función de costo de manera relativamente eficiente, utilizando las facilidades que presenta numpy (20 puntos)"
   ]
  },
  {
   "cell_type": "code",
   "execution_count": 10,
   "metadata": {
    "collapsed": false
   },
   "outputs": [
    {
     "name": "stdout",
     "output_type": "stream",
     "text": [
      "0.0575865139948\n",
      "Paso la prueba\n"
     ]
    }
   ],
   "source": [
    "def costo(theta, x, y):\n",
    "    \"\"\"\n",
    "    Calcula el costo para la regresión softmax parametrizada por theta, \n",
    "    con el conjunto de datos dado por (x, y)\n",
    "    \n",
    "    @param theta: ndarray de dimensión (n+1, K) con los parámetros\n",
    "    @param x: ndarray de dimensión (T, n+1) con los datos\n",
    "    @param y: ndarray de dimensión (T, K) con la clase por cada dato\n",
    "    \n",
    "    @return: Un valor flotante\n",
    "    \n",
    "    \"\"\"\n",
    "    T, K = y.shape\n",
    "    n = x.shape[1] - 1\n",
    "    \n",
    "    #--------------------------------------------------------------------------------\n",
    "    # AGREGA AQUI TU CÓDIGO\n",
    "    #--------------------------------------------------------------------------------\n",
    "    return -(np.sum(y * np.log(logistica(x.dot(theta)))))/T\n",
    "    #--------------------------------------------------------------------------------\n",
    "\n",
    "def test_costo():\n",
    "    x = np.array([[1, 0, 0], [1, 0, 1], [1, 1, 0], [1, 1, 1]])\n",
    "    y = np.eye(4)\n",
    "\n",
    "    w = np.array([[3, -4, -4],[-1, -1, 3], [.01, 3, -10], [-5, 5, 5]]).T\n",
    "    \n",
    "    print costo(w, x, y)\n",
    "    assert costo(w, x, y) < 0.1\n",
    "    return \"Paso la prueba\"\n",
    "    \n",
    "print test_costo()"
   ]
  },
  {
   "cell_type": "markdown",
   "metadata": {},
   "source": [
    "#### Ejercicio 3. Implementa la función para predecir el valor de y estimada sin tener que calcular la función softmax (20 puntos)"
   ]
  },
  {
   "cell_type": "code",
   "execution_count": 11,
   "metadata": {
    "collapsed": false
   },
   "outputs": [
    {
     "name": "stdout",
     "output_type": "stream",
     "text": [
      "True\n",
      "Paso la prueba\n",
      "None\n"
     ]
    }
   ],
   "source": [
    "def predice(theta, x):\n",
    "    \"\"\"\n",
    "    Prediccion de y_hat a partir de la matriz theta para los valores de x\n",
    "    \n",
    "    @param theta: ndarray de dimensión (n+1, K) con los parámetros\n",
    "    @param x: ndarray de dimensión (T, n+1) con los datos\n",
    "\n",
    "    @return: ndarray de dimensión (T, K) con la clase por cada dato (unos y ceros)\n",
    "    \n",
    "    \"\"\"\n",
    "    #--------------------------------------------------------------------------------\n",
    "    # AGREGA AQUI TU CÓDIGO\n",
    "    #--------------------------------------------------------------------------------\n",
    "    indices = np.argmax(x.dot(theta), axis = 1)\n",
    "    y_hat = np.zeros((x.shape[0], theta.shape[1]))\n",
    "    y_hat[range(y_hat.shape[0]), indices] = 1\n",
    "    return y_hat\n",
    "    #--------------------------------------------------------------------------------\n",
    "\n",
    "def prueba_prediccion():\n",
    "    x = np.array([[1, 0, 0], [1, 0, 1], [1, 1, 0], [1, 1, 1]])\n",
    "    y = np.eye(4)\n",
    "\n",
    "    theta = np.array([[3, -4, -4],[-1, -1, 3], [.01, 3, -10], [-5, 5, 5]]).T\n",
    "    \n",
    "    print abs((y - predice(theta, x)).sum()) < 1e-12 \n",
    "    assert abs((y - predice(theta, x)).sum()) < 1e-12 \n",
    "    print \"Paso la prueba\"\n",
    "    \n",
    "print prueba_prediccion()"
   ]
  },
  {
   "cell_type": "markdown",
   "metadata": {},
   "source": [
    "Y por último tenemos que implementar el gradiente para poder utilizar los métodos de optimización (ya sea por descenso de gradiente o por algún método de optimización.\n",
    "\n",
    "El gradiente se obtiene a partir de las derivadas parciales:\n",
    "\n",
    "$$\n",
    "\\frac{\\partial J(\\theta)}{\\partial \\theta_s^{(r)}} = - \\frac{1}{T} \\sum_{i = 1}^T \\left(y_k^{(i)} -  \\sum_{j=1}^K \\hat{y}_j^{i}\\right) x_s^{(i)},\n",
    "$$\n",
    "\n",
    "donde $k$ es la clase a la que pertenece el ejemplo $i$. Esto implica que cuando $k = r$, entonces solamente tenemos $1 - \\hat{y}_k^{(i)}$ para este dato. Si $k \\neq r$ entonces tendremos $-\\hat{y}_r^{(i)}$. \n",
    "\n",
    "Esto se puede resolver en forma matricial como\n",
    "\n",
    "$$\n",
    "\\nabla J(\\theta) = - \\frac{1}{T} X^T (Y - \\hat{Y})\n",
    "$$"
   ]
  },
  {
   "cell_type": "markdown",
   "metadata": {},
   "source": [
    "#### Ejercicio 4. Implementa el gradiente de la manera que menos se dificulte (15 puntos)"
   ]
  },
  {
   "cell_type": "code",
   "execution_count": 12,
   "metadata": {
    "collapsed": false
   },
   "outputs": [
    {
     "name": "stdout",
     "output_type": "stream",
     "text": [
      "0.25\n",
      "Paso la prueba\n",
      "None\n"
     ]
    }
   ],
   "source": [
    "def gradiente(theta, x, y):\n",
    "    \"\"\"\n",
    "    Calculo del gradiente para el problema de regresión softmax\n",
    "    \n",
    "    @param theta: ndarray de dimensión (n+1, K) con los parámetros\n",
    "    @param x: ndarray de dimensión (T, n+1) con los datos\n",
    "    @param y: ndarray de dimensión (T, K) con la clase por cada dato\n",
    "    \n",
    "    @return: Un ndarray de mismas dimensiones que theta\n",
    "    \n",
    "    \"\"\"\n",
    "    #--------------------------------------------------------------------------------\n",
    "    # AGREGA AQUI TU CÓDIGO\n",
    "    #--------------------------------------------------------------------------------\n",
    "    T, K = y.shape\n",
    "    return -(x.T.dot(y - logistica(x.dot(theta))))/T\n",
    "    #--------------------------------------------------------------------------------\n",
    "\n",
    "def prueba_gradiente():\n",
    "    x = np.array([[1, 0, 0], [1, 0, 1], [1, 1, 0], [1, 1, 1]])\n",
    "    y = np.eye(4)\n",
    "    theta = np.array([[3, -4, -4],[-1, -1, 3], [.01, 3, -10], [-5, 5, 5]]).T\n",
    "    g = gradiente(theta, x, y)\n",
    "    \n",
    "    print np.abs(g).max()\n",
    "    #assert np.abs(g).max() < 0.05\n",
    "    \n",
    "    print \"Paso la prueba\"\n",
    "    \n",
    "print prueba_gradiente()    "
   ]
  },
  {
   "cell_type": "markdown",
   "metadata": {},
   "source": [
    "Ahora si, ya nos encontramos en capacidad para realizar el aprendizaje para la regresión logística."
   ]
  },
  {
   "cell_type": "markdown",
   "metadata": {},
   "source": [
    "#### Ejercicio 5. Implementa la regresión logística utilizando el método de descenso de gradiente (15 puntos)"
   ]
  },
  {
   "cell_type": "code",
   "execution_count": 13,
   "metadata": {
    "collapsed": false
   },
   "outputs": [],
   "source": [
    "def dg_logistica_lotes(theta, x, y, alpha=None, max_epoch=10000, epsilon=1e-3, errores=False):\n",
    "    \"\"\"\n",
    "    Descenso de gradiente por lotes para la clasificación softmax\n",
    "    \n",
    "    \"\"\"\n",
    "    historial = np.zeros((max_epoch)) if errores else None\n",
    "        \n",
    "    for epoch in xrange(max_epoch):\n",
    "        #--------------------------------------------------------------------------------\n",
    "        # AGREGA AQUI TU CÓDIGO\n",
    "        #--------------------------------------------------------------------------------\n",
    "        delta = gradiente(theta, x, y)\n",
    "        if np.max(np.abs(delta)) < epsilon:\n",
    "            return theta, historial\n",
    "        theta -= alpha * delta\n",
    "        if errores:\n",
    "            historial[epoch] = costo(theta, x, y)\n",
    "        #--------------------------------------------------------------------------------\n",
    "    return theta, historial"
   ]
  },
  {
   "cell_type": "markdown",
   "metadata": {},
   "source": [
    "Pero para utilizar el descenso de gradiente hay que ajustar un valor de $\\alpha$."
   ]
  },
  {
   "cell_type": "code",
   "execution_count": 14,
   "metadata": {
    "collapsed": false
   },
   "outputs": [
    {
     "data": {
      "text/plain": [
       "[<matplotlib.lines.Line2D at 0x7fedbc245090>]"
      ]
     },
     "execution_count": 14,
     "metadata": {},
     "output_type": "execute_result"
    },
    {
     "data": {
      "image/png": "[encoded data removed]",
      "text/plain": [
       "<matplotlib.figure.Figure at 0x7fedbd615e50>"
      ]
     },
     "metadata": {},
     "output_type": "display_data"
    }
   ],
   "source": [
    "# Ajusta un valor de alpha razonable\n",
    "\n",
    "alfita = 1\n",
    "\n",
    "T, K = y.shape\n",
    "n = x.shape[1]\n",
    "\n",
    "theta = 0.1 * (np.random.random((n + 1, K)) - 0.5)\n",
    "theta, e_hist = dg_logistica_lotes(theta, extendida(x), y, alpha=alfita, max_epoch=100, errores=True)\n",
    "plt.plot(e_hist)"
   ]
  },
  {
   "cell_type": "markdown",
   "metadata": {},
   "source": [
    "y para probarlo vamos a aprender a clasificar a los digitos de nuestra base de datos\n"
   ]
  },
  {
   "cell_type": "code",
   "execution_count": 15,
   "metadata": {
    "collapsed": false
   },
   "outputs": [
    {
     "name": "stdout",
     "output_type": "stream",
     "text": [
      "El costo de la solución final es de  0.282545905091\n",
      "\n",
      "Los datos utilizados para el aprendizaje mal clasificados son el 4.77777777778 %\n",
      "\n",
      "Y con los datos de pureba el error es del  6.8 %\n"
     ]
    }
   ],
   "source": [
    "theta = 0.1 * (np.random.random((n + 1, K)) - 0.5)\n",
    "theta, e_hist = dg_logistica_lotes(theta, extendida(x), y, alpha=alfita, max_epoch=1000)\n",
    "\n",
    "print \"El costo de la solución final es de \", costo(theta, extendida(x), y)\n",
    "\n",
    "y_estimada = predice(theta, extendida(x))\n",
    "errores = np.where(y.argmax(axis=1) == y_estimada.argmax(axis=1), 0, 1)\n",
    "\n",
    "print \"\\nLos datos utilizados para el aprendizaje mal clasificados son el\", 100 * errores.mean(),\"%\"\n",
    "\n",
    "# Esto solo es para hacerla más emocionante\n",
    "x_test = data['X_valida']\n",
    "y_test = data['T_valida']\n",
    "y_estimada_T = predice(theta, extendida(x_test))\n",
    "errores = np.where(y_test.argmax(axis=1) == y_estimada_T.argmax(axis=1), 0, 1)\n",
    "\n",
    "print \"\\nY con los datos de pureba el error es del \", 100 * errores.mean(),\"%\""
   ]
  },
  {
   "cell_type": "markdown",
   "metadata": {},
   "source": [
    "¿Será esta la mejor solución? ¿Será una buena solución? Por esto no hay que preocuparse mucho todavía, lo vamos a revisar más adelante en el curso. Se espera con la regresión en varias clases poder clasificar correctamente más del 95% de los datos de entrenamiento. "
   ]
  }
 ],
 "metadata": {
  "kernelspec": {
   "display_name": "Python 2",
   "language": "python",
   "name": "python2"
  },
  "language_info": {
   "codemirror_mode": {
    "name": "ipython",
    "version": 2
   },
   "file_extension": ".py",
   "mimetype": "text/x-python",
   "name": "python",
   "nbconvert_exporter": "python",
   "pygments_lexer": "ipython2",
   "version": "2.7.11"
  }
 },
 "nbformat": 4,
 "nbformat_minor": 0
}
